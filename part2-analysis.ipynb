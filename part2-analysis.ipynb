{
 "cells": [
  {
   "cell_type": "markdown",
   "metadata": {},
   "source": [
    "# Project: NFL Team Attendance Variety and Influencing Factors\n",
    "# Part2: Analysis"
   ]
  },
  {
   "cell_type": "code",
   "execution_count": 1,
   "metadata": {},
   "outputs": [],
   "source": [
    "import pandas as pd"
   ]
  },
  {
   "cell_type": "markdown",
   "metadata": {},
   "source": [
    "# Adjustments to the DataFrame\n",
    "- add stadium_capacity to show the stadium capacity for each team.<br>\n",
    "  Mainly import the data from [stadium comparison](https://www.stadiumsofprofootball.com/comparisons/). For those that moved to different stadiums, used google to fill in the missing values.\n",
    "- add new columns to show the average home attendance and average home attendance rate.\n",
    "- convert the 'renovated' values to 0 and 1. Value equals 1 means the stadium is renovated that year, 0 means that the stadium is not renovated that year."
   ]
  },
  {
   "cell_type": "code",
   "execution_count": 2,
   "metadata": {},
   "outputs": [],
   "source": [
    "# import the clean_data from part1\n",
    "clean_data = pd.read_csv('clean_data.csv')\n",
    "clean_data.head()\n",
    "# import the stadium_comparison_clean from part1\n",
    "stadiums = pd.read_csv('stadium_comparison_clean.csv')\n",
    "\n",
    "# create a temporary DataFrame with only the columns needed\n",
    "stadiums_capacities = stadiums[['team_name', 'capacity', 'year_opened']]\n",
    "\n",
    "# merge the two dataframes to add the stadium capacity to the clean_data\n",
    "merged = pd.merge(clean_data, stadiums_capacities, on='team_name', how='left')\n",
    "merged.head()\n",
    "\n",
    "# rename the columns\n",
    "merged = merged.rename(columns={'capacity': 'stadium_capacity', 'year_opened': 'stadium_open_year'})\n",
    "\n",
    "# set the capacity to None if the stadium_open_year is after the year of the game\n",
    "merged['stadium_capacity'] = merged.apply(lambda x: x['stadium_capacity'] if x['stadium_open_year'] <= x['year'] else None, axis=1)"
   ]
  },
  {
   "cell_type": "code",
   "execution_count": 3,
   "metadata": {},
   "outputs": [],
   "source": [
    "# show each team's None values in the stadium_capacity column\n",
    "No_capacity = merged[merged['stadium_capacity'].isnull()][['team_name', 'year', 'stadium_open_year', 'stadium_capacity']]\n",
    "# export the DataFrame to a csv file\n",
    "No_capacity.to_csv('No_capacity.csv', index=False)\n",
    "\n",
    "# fill in the None values with the previous capacity of the stadiums manually\n",
    "# save the DataFrame with previous capacity\n",
    "previous_capacity = pd.read_csv('previous_capacity.csv')\n",
    "# drop the stadium_open_year column\n",
    "previous_capacity = previous_capacity.drop(columns=['stadium_open_year'])\n",
    "previous_capacity.head(10)\n",
    "# convert the stadium_capacity column to integer\n",
    "previous_capacity['stadium_capacity'] = previous_capacity['stadium_capacity'].str.replace(',', '').astype(int)"
   ]
  },
  {
   "cell_type": "code",
   "execution_count": 6,
   "metadata": {},
   "outputs": [],
   "source": [
    "# merge the two dataframes\n",
    "final_dataset = pd.merge(merged, previous_capacity, on=['team_name', 'year'], how='left')\n",
    "# fill the missing values in the stadium_capacity column with the values from the previous_capacity column\n",
    "final_dataset['stadium_capacity_x'] = final_dataset['stadium_capacity_x'].fillna(final_dataset['stadium_capacity_y'])\n",
    "\n",
    "# drop the unnecessary columns and rename the columns\n",
    "final_dataset = final_dataset.drop(columns=['stadium_capacity_y','stadium_open_year', 'stadium_open_year', 'stadium_renovation_year'])\n",
    "final_dataset = final_dataset.rename(columns={'stadium_capacity_x': 'stadium_capacity'})\n",
    "final_dataset = final_dataset.rename(columns={'total': 'total_attendance'})\n",
    "\n",
    "# convert the renovated column to 0 and 1\n",
    "final_dataset['renovated'] = final_dataset['renovated'].apply(lambda x: 1 if x == True else 0)\n",
    "\n",
    "# calculate the average home attendance and the average home attendance rate\n",
    "final_dataset['home_attendance_per_game'] = final_dataset['home_attendance']/8\n",
    "final_dataset['home_attendance_rate_per_game'] = final_dataset['home_attendance_per_game']/final_dataset['stadium_capacity']\n",
    "\n",
    "# drop the total_attendance column and away_attendance column\n",
    "final_dataset = final_dataset.drop(columns=['total_attendance', 'away_attendance'])\n"
   ]
  },
  {
   "cell_type": "code",
   "execution_count": 7,
   "metadata": {},
   "outputs": [
    {
     "data": {
      "text/html": [
       "<div>\n",
       "<style scoped>\n",
       "    .dataframe tbody tr th:only-of-type {\n",
       "        vertical-align: middle;\n",
       "    }\n",
       "\n",
       "    .dataframe tbody tr th {\n",
       "        vertical-align: top;\n",
       "    }\n",
       "\n",
       "    .dataframe thead th {\n",
       "        text-align: right;\n",
       "    }\n",
       "</style>\n",
       "<table border=\"1\" class=\"dataframe\">\n",
       "  <thead>\n",
       "    <tr style=\"text-align: right;\">\n",
       "      <th></th>\n",
       "      <th>team</th>\n",
       "      <th>team_name</th>\n",
       "      <th>year</th>\n",
       "      <th>home_attendance</th>\n",
       "      <th>wins</th>\n",
       "      <th>loss</th>\n",
       "      <th>playoffs</th>\n",
       "      <th>superbowl_winner</th>\n",
       "      <th>win_percentage</th>\n",
       "      <th>state</th>\n",
       "      <th>county</th>\n",
       "      <th>gdp_chained_million$</th>\n",
       "      <th>renovated</th>\n",
       "      <th>stadium_capacity</th>\n",
       "      <th>home_attendance_per_game</th>\n",
       "      <th>home_attendance_rate_per_game</th>\n",
       "    </tr>\n",
       "  </thead>\n",
       "  <tbody>\n",
       "    <tr>\n",
       "      <th>0</th>\n",
       "      <td>Arizona</td>\n",
       "      <td>Cardinals</td>\n",
       "      <td>2001</td>\n",
       "      <td>307315</td>\n",
       "      <td>7</td>\n",
       "      <td>9</td>\n",
       "      <td>No Playoffs</td>\n",
       "      <td>0</td>\n",
       "      <td>0.44</td>\n",
       "      <td>Arizona</td>\n",
       "      <td>Maricopa</td>\n",
       "      <td>145484.0</td>\n",
       "      <td>0</td>\n",
       "      <td>73379.0</td>\n",
       "      <td>38414.375</td>\n",
       "      <td>0.523506</td>\n",
       "    </tr>\n",
       "    <tr>\n",
       "      <th>1</th>\n",
       "      <td>Arizona</td>\n",
       "      <td>Cardinals</td>\n",
       "      <td>2002</td>\n",
       "      <td>327272</td>\n",
       "      <td>5</td>\n",
       "      <td>11</td>\n",
       "      <td>No Playoffs</td>\n",
       "      <td>0</td>\n",
       "      <td>0.31</td>\n",
       "      <td>Arizona</td>\n",
       "      <td>Maricopa</td>\n",
       "      <td>150559.0</td>\n",
       "      <td>0</td>\n",
       "      <td>73379.0</td>\n",
       "      <td>40909.000</td>\n",
       "      <td>0.557503</td>\n",
       "    </tr>\n",
       "    <tr>\n",
       "      <th>2</th>\n",
       "      <td>Arizona</td>\n",
       "      <td>Cardinals</td>\n",
       "      <td>2003</td>\n",
       "      <td>288499</td>\n",
       "      <td>4</td>\n",
       "      <td>12</td>\n",
       "      <td>No Playoffs</td>\n",
       "      <td>0</td>\n",
       "      <td>0.25</td>\n",
       "      <td>Arizona</td>\n",
       "      <td>Maricopa</td>\n",
       "      <td>160947.0</td>\n",
       "      <td>0</td>\n",
       "      <td>73379.0</td>\n",
       "      <td>36062.375</td>\n",
       "      <td>0.491454</td>\n",
       "    </tr>\n",
       "    <tr>\n",
       "      <th>3</th>\n",
       "      <td>Arizona</td>\n",
       "      <td>Cardinals</td>\n",
       "      <td>2004</td>\n",
       "      <td>300267</td>\n",
       "      <td>6</td>\n",
       "      <td>10</td>\n",
       "      <td>No Playoffs</td>\n",
       "      <td>0</td>\n",
       "      <td>0.38</td>\n",
       "      <td>Arizona</td>\n",
       "      <td>Maricopa</td>\n",
       "      <td>169495.0</td>\n",
       "      <td>0</td>\n",
       "      <td>71706.0</td>\n",
       "      <td>37533.375</td>\n",
       "      <td>0.523434</td>\n",
       "    </tr>\n",
       "    <tr>\n",
       "      <th>4</th>\n",
       "      <td>Arizona</td>\n",
       "      <td>Cardinals</td>\n",
       "      <td>2005</td>\n",
       "      <td>401035</td>\n",
       "      <td>5</td>\n",
       "      <td>11</td>\n",
       "      <td>No Playoffs</td>\n",
       "      <td>0</td>\n",
       "      <td>0.31</td>\n",
       "      <td>Arizona</td>\n",
       "      <td>Maricopa</td>\n",
       "      <td>184185.0</td>\n",
       "      <td>0</td>\n",
       "      <td>71706.0</td>\n",
       "      <td>50129.375</td>\n",
       "      <td>0.699096</td>\n",
       "    </tr>\n",
       "  </tbody>\n",
       "</table>\n",
       "</div>"
      ],
      "text/plain": [
       "      team  team_name  year  home_attendance  wins  loss     playoffs  \\\n",
       "0  Arizona  Cardinals  2001           307315     7     9  No Playoffs   \n",
       "1  Arizona  Cardinals  2002           327272     5    11  No Playoffs   \n",
       "2  Arizona  Cardinals  2003           288499     4    12  No Playoffs   \n",
       "3  Arizona  Cardinals  2004           300267     6    10  No Playoffs   \n",
       "4  Arizona  Cardinals  2005           401035     5    11  No Playoffs   \n",
       "\n",
       "   superbowl_winner  win_percentage    state    county  gdp_chained_million$  \\\n",
       "0                 0            0.44  Arizona  Maricopa              145484.0   \n",
       "1                 0            0.31  Arizona  Maricopa              150559.0   \n",
       "2                 0            0.25  Arizona  Maricopa              160947.0   \n",
       "3                 0            0.38  Arizona  Maricopa              169495.0   \n",
       "4                 0            0.31  Arizona  Maricopa              184185.0   \n",
       "\n",
       "   renovated  stadium_capacity  home_attendance_per_game  \\\n",
       "0          0           73379.0                 38414.375   \n",
       "1          0           73379.0                 40909.000   \n",
       "2          0           73379.0                 36062.375   \n",
       "3          0           71706.0                 37533.375   \n",
       "4          0           71706.0                 50129.375   \n",
       "\n",
       "   home_attendance_rate_per_game  \n",
       "0                       0.523506  \n",
       "1                       0.557503  \n",
       "2                       0.491454  \n",
       "3                       0.523434  \n",
       "4                       0.699096  "
      ]
     },
     "execution_count": 7,
     "metadata": {},
     "output_type": "execute_result"
    }
   ],
   "source": [
    "final_dataset.head()"
   ]
  },
  {
   "cell_type": "markdown",
   "metadata": {},
   "source": [
    "In the NFL, attendance is determined not by ticket sales but by turnstile count -- the number of people who show up to watch the game, thus it may include people besides audience such as team staff and players. Therefore, the attendance rate may be higher than 1."
   ]
  },
  {
   "cell_type": "markdown",
   "metadata": {},
   "source": [
    "## Here are the real world questions we will try to answer:\n",
    "<ol>\n",
    "<li>To what degree does the Gross Domestic Product (GDP) of a county correlate with the attendance figures of its local sports team?</li>\n",
    "<li>How significantly does the performance of a sports team, as reflected by their win-loss record, affect their game attendance numbers?\n",
    "<li>Does the renovation of the stadium increase the home attendance significantly?"
   ]
  },
  {
   "cell_type": "markdown",
   "metadata": {},
   "source": [
    "## Descriptive Statistics"
   ]
  },
  {
   "cell_type": "markdown",
   "metadata": {},
   "source": [
    "Provide a comprehensive summary of your combined dataset using descriptive statistics. This should include means, medians, modes, ranges, variance, and standard deviations for the relevant features of your data.  The descriptive statistics should inform your guiding questions that you developed in Part I of the project, rather than merely providing an overview of your data.  Interpret these results to draw preliminary conclusions about the data.\n"
   ]
  },
  {
   "cell_type": "markdown",
   "metadata": {},
   "source": [
    "### Steps\n",
    "- calculate the overall means, medians, modes, ranges, variance, and standard deviations of home_attendance, home_attendance_rate_per_game, win_percentage and gdp_chained_million$ of all teams.\n",
    "- calculate each team's means, medians, modes, ranges, variance, and standard deviations of home_attendance, home_attendance_rate_per_game, win_percentage and gdp_chained_million$ each year.\n",
    "- find the teams that have renovated the stadium from 2001 to 2018. (renovated == 1)"
   ]
  },
  {
   "cell_type": "markdown",
   "metadata": {},
   "source": [
    "## Inferential Statistics"
   ]
  },
  {
   "cell_type": "markdown",
   "metadata": {},
   "source": [
    "Conduct appropriate hypothesis tests to investigate if there are significant differences or correlations within your data.  This might involve regression analysis, ANOVA, and/or chi-squared tests.\n",
    "\n",
    "Clearly state your null and alternative hypotheses, choose an appropriate significance level, and discuss your findings. Make sure to justify the choice of your tests.\n"
   ]
  },
  {
   "cell_type": "markdown",
   "metadata": {},
   "source": [
    "### Steps\n",
    "- use single regression analysis between winning_percentage and home_attendance_rate_per_game, gdp_chained_million$ and home_attendance_rate per game.\n",
    "- use multiple regression analysis between winning_percentage, gdp_chained_million$ and home_attendance_rate_per_game.\n",
    "- use Anova to determine whether there is a significant influence of winning_percentage and gdp_chained_million$ on home_attendance_rate_per_game.\n",
    "- use chi-square test to determine whether there is a significant difference in the home_attendance_rate_per_game between the renovated year and the year before.\n",
    "- use chi-square test to determine whether there is a significant increase in the home_attendance_rate_per_game if the team wins the Super bowl."
   ]
  },
  {
   "cell_type": "markdown",
   "metadata": {},
   "source": [
    "## Graphical Analysis"
   ]
  },
  {
   "cell_type": "markdown",
   "metadata": {},
   "source": [
    "Create various types of plots to visualize relationships within your data. Use histograms, bar charts, scatter plots, box plots, and any other suitable graphical representations you've learned.\n",
    "\n",
    "Be sure to use appropriate titles, labels, and legends to make your plots readable and informative.\n",
    "\n",
    "Interpret the graphical representations to uncover patterns, trends, and outliers.\n"
   ]
  },
  {
   "cell_type": "markdown",
   "metadata": {},
   "source": [
    "### Steps\n",
    "- draw regression plots between between winning_percentage and home_attendance_rate_per_game, gdp_chained_million$ and home_attendance_rate per game.\n",
    "- draw box plots for the home_attendance_rate_per_gamer in two groups, the renovated year and the year before."
   ]
  },
  {
   "cell_type": "markdown",
   "metadata": {},
   "source": [
    "## Comparative Analysis"
   ]
  },
  {
   "cell_type": "markdown",
   "metadata": {},
   "source": [
    "Compare and contrast different subsets of your data. This can include comparisons over time, across different categories, or any other relevant segmentation.  Note that for some projects, the nature of this comparative analysis will be obvious.  For others, you will need to think about how you might subset your data.\n",
    "\n",
    "Discuss any notable similarities or differences you have identified.\n"
   ]
  },
  {
   "cell_type": "markdown",
   "metadata": {},
   "source": [
    "### Steps\n",
    "- group by team, analyze each team's attendance, winning_percentage and gdp over years (line plot?). And find out whether there is similar trend.\n",
    "- group by year, look at the distribution of team's attendance, winning_percentage and gdp each year."
   ]
  },
  {
   "cell_type": "markdown",
   "metadata": {},
   "source": [
    "## Multivariate Analysis"
   ]
  },
  {
   "cell_type": "markdown",
   "metadata": {},
   "source": [
    "Perform multivariate analysis to understand the relationships among three or more variables in your dataset.\n",
    "\n",
    "Use techniques like cross-tabulation, pivot tables, and multivariate graphs.\n"
   ]
  },
  {
   "cell_type": "markdown",
   "metadata": {},
   "source": [
    "### Steps\n",
    "- variables to analyze: home_attendance_rate_per_game, winning_percentage, gdp_chained_million$, renovated\n",
    "- analysis: multiple regression, pivot tables, multivariate graphs."
   ]
  },
  {
   "cell_type": "markdown",
   "metadata": {},
   "source": [
    "## Synthesis"
   ]
  },
  {
   "cell_type": "markdown",
   "metadata": {},
   "source": [
    "Synthesize the findings from your descriptive and inferential statistics along with your graphical analyses to answer your research questions.\n",
    "\n",
    "Discuss how the combination of the datasets has provided added value in terms of insights or capabilities that would not be possible with the individual datasets in isolation.\n"
   ]
  },
  {
   "cell_type": "markdown",
   "metadata": {},
   "source": [
    "## Documentation"
   ]
  },
  {
   "cell_type": "markdown",
   "metadata": {},
   "source": [
    "Outline the steps you took in your analysis, providing the rationale for the choice of tools and techniques.\n",
    "\n",
    "Clearly document your code, analyses, and interpretations so that they are understandable and reproducible.\n"
   ]
  },
  {
   "cell_type": "markdown",
   "metadata": {},
   "source": [
    "## Reporting & Interpretation"
   ]
  },
  {
   "cell_type": "markdown",
   "metadata": {},
   "source": [
    "Prepare markdown blocks that summarize your methodology, analysis, and findings.  You should intersperse these with your code.\n",
    "\n",
    "Your notebook should be well-structured, with clear sections, headings, and subheadings.\n"
   ]
  },
  {
   "cell_type": "markdown",
   "metadata": {},
   "source": [
    "## Reflection"
   ]
  },
  {
   "cell_type": "markdown",
   "metadata": {},
   "source": [
    "Include a section (using one or more markdown blocks) at the end of your notebook in which you reflect on the process of analyzing the data. Discuss any challenges you encountered and how you overcame them.\n",
    "\n",
    "Critically evaluate the limitations of your analysis and suggest areas for further research or improvement.\n"
   ]
  }
 ],
 "metadata": {
  "kernelspec": {
   "display_name": ".venv",
   "language": "python",
   "name": "python3"
  },
  "language_info": {
   "codemirror_mode": {
    "name": "ipython",
    "version": 3
   },
   "file_extension": ".py",
   "mimetype": "text/x-python",
   "name": "python",
   "nbconvert_exporter": "python",
   "pygments_lexer": "ipython3",
   "version": "3.11.5"
  }
 },
 "nbformat": 4,
 "nbformat_minor": 2
}
