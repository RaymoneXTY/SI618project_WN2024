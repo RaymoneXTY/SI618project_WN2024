{
 "cells": [
  {
   "cell_type": "markdown",
   "metadata": {},
   "source": [
    "# Project: NFL Team Attendance Variety and Influencing Factors\n",
    "# Part2: Analysis"
   ]
  },
  {
   "cell_type": "code",
   "execution_count": 125,
   "metadata": {},
   "outputs": [],
   "source": [
    "import pandas as pd\n",
    "import statsmodels.api as sm\n",
    "import statsmodels.formula.api as smf\n",
    "import matplotlib.pyplot as plt\n",
    "import seaborn as sns"
   ]
  },
  {
   "cell_type": "markdown",
   "metadata": {},
   "source": [
    "# Adjustments to the DataFrame\n",
    "- add stadium_capacity to show the stadium capacity for each team.<br>\n",
    "  Mainly import the data from [stadium comparison](https://www.stadiumsofprofootball.com/comparisons/). For those that moved to different stadiums, used google to fill in the missing values.\n",
    "- add new columns to show the average home attendance and average home attendance rate.\n",
    "- convert the 'renovated' values to 0 and 1. Value equals 1 means the stadium is renovated that year, 0 means that the stadium is not renovated that year."
   ]
  },
  {
   "cell_type": "code",
   "execution_count": 99,
   "metadata": {},
   "outputs": [],
   "source": [
    "# import the clean_data from part1\n",
    "clean_data = pd.read_csv('clean_data.csv')\n",
    "clean_data.head()\n",
    "# import the stadium_comparison_clean from part1\n",
    "stadiums = pd.read_csv('stadium_comparison_clean.csv')\n",
    "\n",
    "# create a temporary DataFrame with only the columns needed\n",
    "stadiums_capacities = stadiums[['team_name', 'capacity', 'year_opened']]\n",
    "\n",
    "# merge the two dataframes to add the stadium capacity to the clean_data\n",
    "merged = pd.merge(clean_data, stadiums_capacities, on='team_name', how='left')\n",
    "merged.head()\n",
    "\n",
    "# rename the columns\n",
    "merged = merged.rename(columns={'capacity': 'stadium_capacity', 'year_opened': 'stadium_open_year'})\n",
    "\n",
    "# set the capacity to None if the stadium_open_year is after the year of the game\n",
    "merged['stadium_capacity'] = merged.apply(lambda x: x['stadium_capacity'] if x['stadium_open_year'] <= x['year'] else None, axis=1)"
   ]
  },
  {
   "cell_type": "code",
   "execution_count": 100,
   "metadata": {},
   "outputs": [],
   "source": [
    "# show each team's None values in the stadium_capacity column\n",
    "No_capacity = merged[merged['stadium_capacity'].isnull()][['team_name', 'year', 'stadium_open_year', 'stadium_capacity']]\n",
    "# export the DataFrame to a csv file\n",
    "No_capacity.to_csv('No_capacity.csv', index=False)\n",
    "\n",
    "# fill in the None values with the previous capacity of the stadiums manually\n",
    "# save the DataFrame with previous capacity\n",
    "previous_capacity = pd.read_csv('previous_capacity.csv')\n",
    "# drop the stadium_open_year column\n",
    "previous_capacity = previous_capacity.drop(columns=['stadium_open_year'])\n",
    "previous_capacity.head(10)\n",
    "# convert the stadium_capacity column to integer\n",
    "previous_capacity['stadium_capacity'] = previous_capacity['stadium_capacity'].str.replace(',', '').astype(int)"
   ]
  },
  {
   "cell_type": "code",
   "execution_count": 101,
   "metadata": {},
   "outputs": [],
   "source": [
    "# merge the two dataframes\n",
    "final_dataset = pd.merge(merged, previous_capacity, on=['team_name', 'year'], how='left')\n",
    "# fill the missing values in the stadium_capacity column with the values from the previous_capacity column\n",
    "final_dataset['stadium_capacity_x'] = final_dataset['stadium_capacity_x'].fillna(final_dataset['stadium_capacity_y'])\n",
    "\n",
    "# drop the unnecessary columns and rename the columns\n",
    "final_dataset = final_dataset.drop(columns=['stadium_capacity_y','stadium_open_year', 'stadium_open_year', 'stadium_renovation_year'])\n",
    "final_dataset = final_dataset.rename(columns={'stadium_capacity_x': 'stadium_capacity'})\n",
    "final_dataset = final_dataset.rename(columns={'total': 'total_attendance'})\n",
    "\n",
    "# convert the renovated column to 0 and 1\n",
    "final_dataset['renovated'] = final_dataset['renovated'].apply(lambda x: 1 if x == True else 0)\n",
    "\n",
    "# calculate the average home attendance and the average home attendance rate\n",
    "final_dataset['home_attendance_per_game'] = final_dataset['home_attendance']/8\n",
    "final_dataset['home_attendance_rate_per_game'] = final_dataset['home_attendance_per_game']/final_dataset['stadium_capacity']\n",
    "\n",
    "# drop the total_attendance column and away_attendance column\n",
    "final_dataset = final_dataset.drop(columns=['total_attendance', 'away_attendance'])\n"
   ]
  },
  {
   "cell_type": "code",
   "execution_count": 102,
   "metadata": {},
   "outputs": [],
   "source": [
    "# change the state of the Rams to Missouri and the county to St. Louis before 2016\n",
    "final_dataset.loc[(final_dataset['team_name'] == 'Rams') & (final_dataset['year'] < 2016), 'state'] = 'Missouri'\n",
    "final_dataset.loc[(final_dataset['team_name'] == 'Rams') & (final_dataset['year'] < 2016), 'county'] = 'St. Louis'\n",
    "# change the county of the Chargers to San Diego before 2017\n",
    "final_dataset.loc[(final_dataset['team_name'] == 'Chargers') & (final_dataset['year'] < 2017), 'county'] = 'San Diego'"
   ]
  },
  {
   "cell_type": "code",
   "execution_count": 103,
   "metadata": {},
   "outputs": [],
   "source": [
    "gdpcounty_clean = pd.read_csv('gdpcounty_clean.csv')\n",
    "# merge the final_dataset with the gdpcounty_clean again to adjust the gdp for the Rams and the Chargers\n",
    "final_dataset = pd.merge(final_dataset, gdpcounty_clean, on=['state', 'county', 'year'], how='left')\n",
    "final_dataset.drop(columns=['gdp_chained_million$_x'], inplace=True)\n",
    "final_dataset.rename(columns={'gdp_chained_million$_y': 'gdp_chained_million_dollar'}, inplace=True)\n",
    "\n",
    "# reorder the columns\n",
    "final_dataset = final_dataset[['team', 'team_name', 'year', 'home_attendance', 'wins', 'loss', 'playoffs', 'superbowl_winner', 'win_percentage', 'state', 'county', 'gdp_chained_million_dollar', 'renovated', 'stadium_capacity', 'home_attendance_per_game', 'home_attendance_rate_per_game']]"
   ]
  },
  {
   "cell_type": "code",
   "execution_count": 112,
   "metadata": {},
   "outputs": [
    {
     "data": {
      "text/html": [
       "<div>\n",
       "<style scoped>\n",
       "    .dataframe tbody tr th:only-of-type {\n",
       "        vertical-align: middle;\n",
       "    }\n",
       "\n",
       "    .dataframe tbody tr th {\n",
       "        vertical-align: top;\n",
       "    }\n",
       "\n",
       "    .dataframe thead th {\n",
       "        text-align: right;\n",
       "    }\n",
       "</style>\n",
       "<table border=\"1\" class=\"dataframe\">\n",
       "  <thead>\n",
       "    <tr style=\"text-align: right;\">\n",
       "      <th></th>\n",
       "      <th>team</th>\n",
       "      <th>team_name</th>\n",
       "      <th>year</th>\n",
       "      <th>home_attendance</th>\n",
       "      <th>wins</th>\n",
       "      <th>loss</th>\n",
       "      <th>playoffs</th>\n",
       "      <th>superbowl_winner</th>\n",
       "      <th>win_percentage</th>\n",
       "      <th>state</th>\n",
       "      <th>county</th>\n",
       "      <th>gdp_chained_million_dollar</th>\n",
       "      <th>renovated</th>\n",
       "      <th>stadium_capacity</th>\n",
       "      <th>home_attendance_per_game</th>\n",
       "      <th>home_attendance_rate_per_game</th>\n",
       "    </tr>\n",
       "  </thead>\n",
       "  <tbody>\n",
       "    <tr>\n",
       "      <th>0</th>\n",
       "      <td>Arizona</td>\n",
       "      <td>Cardinals</td>\n",
       "      <td>2001</td>\n",
       "      <td>307315</td>\n",
       "      <td>7</td>\n",
       "      <td>9</td>\n",
       "      <td>No Playoffs</td>\n",
       "      <td>0</td>\n",
       "      <td>0.44</td>\n",
       "      <td>Arizona</td>\n",
       "      <td>Maricopa</td>\n",
       "      <td>145484.0</td>\n",
       "      <td>0</td>\n",
       "      <td>73379.0</td>\n",
       "      <td>38414.375</td>\n",
       "      <td>0.523506</td>\n",
       "    </tr>\n",
       "    <tr>\n",
       "      <th>1</th>\n",
       "      <td>Arizona</td>\n",
       "      <td>Cardinals</td>\n",
       "      <td>2002</td>\n",
       "      <td>327272</td>\n",
       "      <td>5</td>\n",
       "      <td>11</td>\n",
       "      <td>No Playoffs</td>\n",
       "      <td>0</td>\n",
       "      <td>0.31</td>\n",
       "      <td>Arizona</td>\n",
       "      <td>Maricopa</td>\n",
       "      <td>150559.0</td>\n",
       "      <td>0</td>\n",
       "      <td>73379.0</td>\n",
       "      <td>40909.000</td>\n",
       "      <td>0.557503</td>\n",
       "    </tr>\n",
       "    <tr>\n",
       "      <th>2</th>\n",
       "      <td>Arizona</td>\n",
       "      <td>Cardinals</td>\n",
       "      <td>2003</td>\n",
       "      <td>288499</td>\n",
       "      <td>4</td>\n",
       "      <td>12</td>\n",
       "      <td>No Playoffs</td>\n",
       "      <td>0</td>\n",
       "      <td>0.25</td>\n",
       "      <td>Arizona</td>\n",
       "      <td>Maricopa</td>\n",
       "      <td>160947.0</td>\n",
       "      <td>0</td>\n",
       "      <td>73379.0</td>\n",
       "      <td>36062.375</td>\n",
       "      <td>0.491454</td>\n",
       "    </tr>\n",
       "    <tr>\n",
       "      <th>3</th>\n",
       "      <td>Arizona</td>\n",
       "      <td>Cardinals</td>\n",
       "      <td>2004</td>\n",
       "      <td>300267</td>\n",
       "      <td>6</td>\n",
       "      <td>10</td>\n",
       "      <td>No Playoffs</td>\n",
       "      <td>0</td>\n",
       "      <td>0.38</td>\n",
       "      <td>Arizona</td>\n",
       "      <td>Maricopa</td>\n",
       "      <td>169495.0</td>\n",
       "      <td>0</td>\n",
       "      <td>71706.0</td>\n",
       "      <td>37533.375</td>\n",
       "      <td>0.523434</td>\n",
       "    </tr>\n",
       "    <tr>\n",
       "      <th>4</th>\n",
       "      <td>Arizona</td>\n",
       "      <td>Cardinals</td>\n",
       "      <td>2005</td>\n",
       "      <td>401035</td>\n",
       "      <td>5</td>\n",
       "      <td>11</td>\n",
       "      <td>No Playoffs</td>\n",
       "      <td>0</td>\n",
       "      <td>0.31</td>\n",
       "      <td>Arizona</td>\n",
       "      <td>Maricopa</td>\n",
       "      <td>184185.0</td>\n",
       "      <td>0</td>\n",
       "      <td>71706.0</td>\n",
       "      <td>50129.375</td>\n",
       "      <td>0.699096</td>\n",
       "    </tr>\n",
       "  </tbody>\n",
       "</table>\n",
       "</div>"
      ],
      "text/plain": [
       "      team  team_name  year  home_attendance  wins  loss     playoffs  \\\n",
       "0  Arizona  Cardinals  2001           307315     7     9  No Playoffs   \n",
       "1  Arizona  Cardinals  2002           327272     5    11  No Playoffs   \n",
       "2  Arizona  Cardinals  2003           288499     4    12  No Playoffs   \n",
       "3  Arizona  Cardinals  2004           300267     6    10  No Playoffs   \n",
       "4  Arizona  Cardinals  2005           401035     5    11  No Playoffs   \n",
       "\n",
       "   superbowl_winner  win_percentage    state    county  \\\n",
       "0                 0            0.44  Arizona  Maricopa   \n",
       "1                 0            0.31  Arizona  Maricopa   \n",
       "2                 0            0.25  Arizona  Maricopa   \n",
       "3                 0            0.38  Arizona  Maricopa   \n",
       "4                 0            0.31  Arizona  Maricopa   \n",
       "\n",
       "   gdp_chained_million_dollar  renovated  stadium_capacity  \\\n",
       "0                    145484.0          0           73379.0   \n",
       "1                    150559.0          0           73379.0   \n",
       "2                    160947.0          0           73379.0   \n",
       "3                    169495.0          0           71706.0   \n",
       "4                    184185.0          0           71706.0   \n",
       "\n",
       "   home_attendance_per_game  home_attendance_rate_per_game  \n",
       "0                 38414.375                       0.523506  \n",
       "1                 40909.000                       0.557503  \n",
       "2                 36062.375                       0.491454  \n",
       "3                 37533.375                       0.523434  \n",
       "4                 50129.375                       0.699096  "
      ]
     },
     "execution_count": 112,
     "metadata": {},
     "output_type": "execute_result"
    }
   ],
   "source": [
    "final_dataset.head()"
   ]
  },
  {
   "cell_type": "markdown",
   "metadata": {},
   "source": [
    "In the NFL, attendance is determined not by ticket sales but by turnstile count -- the number of people who show up to watch the game, thus it may include people besides audience such as team staff and players. Therefore, the attendance rate may be higher than 1."
   ]
  },
  {
   "cell_type": "markdown",
   "metadata": {},
   "source": [
    "## Here are the real world questions we will try to answer:\n",
    "<ol>\n",
    "<li>To what degree does the Gross Domestic Product (GDP) of a county correlate with the attendance figures of its local sports team?</li>\n",
    "<li>How significantly does the performance of a sports team, as reflected by their win-loss record, affect their game attendance numbers?\n",
    "<li>Does the renovation of the stadium increase the home attendance significantly?"
   ]
  },
  {
   "cell_type": "markdown",
   "metadata": {},
   "source": [
    "## Descriptive Statistics"
   ]
  },
  {
   "cell_type": "markdown",
   "metadata": {},
   "source": [
    "Provide a comprehensive summary of your combined dataset using descriptive statistics. This should include means, medians, modes, ranges, variance, and standard deviations for the relevant features of your data.  The descriptive statistics should inform your guiding questions that you developed in Part I of the project, rather than merely providing an overview of your data.  Interpret these results to draw preliminary conclusions about the data.\n"
   ]
  },
  {
   "cell_type": "markdown",
   "metadata": {},
   "source": [
    "### Steps\n",
    "- calculate the overall means, medians, modes, ranges, variance, and standard deviations of home_attendance, home_attendance_rate_per_game, win_percentage and gdp_chained_million$ of all teams.\n",
    "- calculate each team's means, medians, modes, ranges, variance, and standard deviations of home_attendance, home_attendance_rate_per_game, win_percentage and gdp_chained_million$ each year.\n",
    "- find the teams that have renovated the stadium from 2001 to 2018. (renovated == 1)"
   ]
  },
  {
   "cell_type": "markdown",
   "metadata": {},
   "source": [
    "## Inferential Statistics"
   ]
  },
  {
   "cell_type": "markdown",
   "metadata": {},
   "source": [
    "Conduct appropriate hypothesis tests to investigate if there are significant differences or correlations within your data.  This might involve regression analysis, ANOVA, and/or chi-squared tests.\n",
    "\n",
    "Clearly state your null and alternative hypotheses, choose an appropriate significance level, and discuss your findings. Make sure to justify the choice of your tests.\n"
   ]
  },
  {
   "cell_type": "markdown",
   "metadata": {},
   "source": [
    "### Steps\n",
    "- use single regression analysis between winning_percentage and home_attendance_rate_per_game, gdp_chained_million$ and home_attendance_rate_per_game.\n",
    "- use multiple regression analysis between winning_percentage, gdp_chained_million$ and home_attendance_rate_per_game.\n",
    "- use Anova to determine whether there is a significant influence of winning_percentage and gdp_chained_million$ on home_attendance_rate_per_game.\n",
    "- use chi-square test to determine whether there is a significant difference in the home_attendance_rate_per_game between the renovated year and the year before.\n",
    "- use chi-square test to determine whether there is a significant increase in the home_attendance_rate_per_game if the team wins the Super bowl."
   ]
  },
  {
   "cell_type": "code",
   "execution_count": 106,
   "metadata": {},
   "outputs": [
    {
     "data": {
      "text/html": [
       "<div>\n",
       "<style scoped>\n",
       "    .dataframe tbody tr th:only-of-type {\n",
       "        vertical-align: middle;\n",
       "    }\n",
       "\n",
       "    .dataframe tbody tr th {\n",
       "        vertical-align: top;\n",
       "    }\n",
       "\n",
       "    .dataframe thead th {\n",
       "        text-align: right;\n",
       "    }\n",
       "</style>\n",
       "<table border=\"1\" class=\"dataframe\">\n",
       "  <thead>\n",
       "    <tr style=\"text-align: right;\">\n",
       "      <th></th>\n",
       "      <th>team</th>\n",
       "      <th>team_name</th>\n",
       "      <th>year</th>\n",
       "      <th>home_attendance</th>\n",
       "      <th>wins</th>\n",
       "      <th>loss</th>\n",
       "      <th>playoffs</th>\n",
       "      <th>superbowl_winner</th>\n",
       "      <th>win_percentage</th>\n",
       "      <th>state</th>\n",
       "      <th>county</th>\n",
       "      <th>gdp_chained_million_dollar</th>\n",
       "      <th>renovated</th>\n",
       "      <th>stadium_capacity</th>\n",
       "      <th>home_attendance_per_game</th>\n",
       "      <th>home_attendance_rate_per_game</th>\n",
       "    </tr>\n",
       "  </thead>\n",
       "  <tbody>\n",
       "    <tr>\n",
       "      <th>0</th>\n",
       "      <td>Arizona</td>\n",
       "      <td>Cardinals</td>\n",
       "      <td>2001</td>\n",
       "      <td>307315</td>\n",
       "      <td>7</td>\n",
       "      <td>9</td>\n",
       "      <td>No Playoffs</td>\n",
       "      <td>0</td>\n",
       "      <td>0.44</td>\n",
       "      <td>Arizona</td>\n",
       "      <td>Maricopa</td>\n",
       "      <td>145484.0</td>\n",
       "      <td>0</td>\n",
       "      <td>73379.0</td>\n",
       "      <td>38414.375</td>\n",
       "      <td>0.523506</td>\n",
       "    </tr>\n",
       "    <tr>\n",
       "      <th>1</th>\n",
       "      <td>Arizona</td>\n",
       "      <td>Cardinals</td>\n",
       "      <td>2002</td>\n",
       "      <td>327272</td>\n",
       "      <td>5</td>\n",
       "      <td>11</td>\n",
       "      <td>No Playoffs</td>\n",
       "      <td>0</td>\n",
       "      <td>0.31</td>\n",
       "      <td>Arizona</td>\n",
       "      <td>Maricopa</td>\n",
       "      <td>150559.0</td>\n",
       "      <td>0</td>\n",
       "      <td>73379.0</td>\n",
       "      <td>40909.000</td>\n",
       "      <td>0.557503</td>\n",
       "    </tr>\n",
       "    <tr>\n",
       "      <th>2</th>\n",
       "      <td>Arizona</td>\n",
       "      <td>Cardinals</td>\n",
       "      <td>2003</td>\n",
       "      <td>288499</td>\n",
       "      <td>4</td>\n",
       "      <td>12</td>\n",
       "      <td>No Playoffs</td>\n",
       "      <td>0</td>\n",
       "      <td>0.25</td>\n",
       "      <td>Arizona</td>\n",
       "      <td>Maricopa</td>\n",
       "      <td>160947.0</td>\n",
       "      <td>0</td>\n",
       "      <td>73379.0</td>\n",
       "      <td>36062.375</td>\n",
       "      <td>0.491454</td>\n",
       "    </tr>\n",
       "    <tr>\n",
       "      <th>3</th>\n",
       "      <td>Arizona</td>\n",
       "      <td>Cardinals</td>\n",
       "      <td>2004</td>\n",
       "      <td>300267</td>\n",
       "      <td>6</td>\n",
       "      <td>10</td>\n",
       "      <td>No Playoffs</td>\n",
       "      <td>0</td>\n",
       "      <td>0.38</td>\n",
       "      <td>Arizona</td>\n",
       "      <td>Maricopa</td>\n",
       "      <td>169495.0</td>\n",
       "      <td>0</td>\n",
       "      <td>71706.0</td>\n",
       "      <td>37533.375</td>\n",
       "      <td>0.523434</td>\n",
       "    </tr>\n",
       "    <tr>\n",
       "      <th>4</th>\n",
       "      <td>Arizona</td>\n",
       "      <td>Cardinals</td>\n",
       "      <td>2005</td>\n",
       "      <td>401035</td>\n",
       "      <td>5</td>\n",
       "      <td>11</td>\n",
       "      <td>No Playoffs</td>\n",
       "      <td>0</td>\n",
       "      <td>0.31</td>\n",
       "      <td>Arizona</td>\n",
       "      <td>Maricopa</td>\n",
       "      <td>184185.0</td>\n",
       "      <td>0</td>\n",
       "      <td>71706.0</td>\n",
       "      <td>50129.375</td>\n",
       "      <td>0.699096</td>\n",
       "    </tr>\n",
       "  </tbody>\n",
       "</table>\n",
       "</div>"
      ],
      "text/plain": [
       "      team  team_name  year  home_attendance  wins  loss     playoffs  \\\n",
       "0  Arizona  Cardinals  2001           307315     7     9  No Playoffs   \n",
       "1  Arizona  Cardinals  2002           327272     5    11  No Playoffs   \n",
       "2  Arizona  Cardinals  2003           288499     4    12  No Playoffs   \n",
       "3  Arizona  Cardinals  2004           300267     6    10  No Playoffs   \n",
       "4  Arizona  Cardinals  2005           401035     5    11  No Playoffs   \n",
       "\n",
       "   superbowl_winner  win_percentage    state    county  \\\n",
       "0                 0            0.44  Arizona  Maricopa   \n",
       "1                 0            0.31  Arizona  Maricopa   \n",
       "2                 0            0.25  Arizona  Maricopa   \n",
       "3                 0            0.38  Arizona  Maricopa   \n",
       "4                 0            0.31  Arizona  Maricopa   \n",
       "\n",
       "   gdp_chained_million_dollar  renovated  stadium_capacity  \\\n",
       "0                    145484.0          0           73379.0   \n",
       "1                    150559.0          0           73379.0   \n",
       "2                    160947.0          0           73379.0   \n",
       "3                    169495.0          0           71706.0   \n",
       "4                    184185.0          0           71706.0   \n",
       "\n",
       "   home_attendance_per_game  home_attendance_rate_per_game  \n",
       "0                 38414.375                       0.523506  \n",
       "1                 40909.000                       0.557503  \n",
       "2                 36062.375                       0.491454  \n",
       "3                 37533.375                       0.523434  \n",
       "4                 50129.375                       0.699096  "
      ]
     },
     "execution_count": 106,
     "metadata": {},
     "output_type": "execute_result"
    }
   ],
   "source": [
    "final_dataset.head()"
   ]
  },
  {
   "cell_type": "code",
   "execution_count": 124,
   "metadata": {},
   "outputs": [
    {
     "data": {
      "text/html": [
       "<div>\n",
       "<style scoped>\n",
       "    .dataframe tbody tr th:only-of-type {\n",
       "        vertical-align: middle;\n",
       "    }\n",
       "\n",
       "    .dataframe tbody tr th {\n",
       "        vertical-align: top;\n",
       "    }\n",
       "\n",
       "    .dataframe thead th {\n",
       "        text-align: right;\n",
       "    }\n",
       "</style>\n",
       "<table border=\"1\" class=\"dataframe\">\n",
       "  <thead>\n",
       "    <tr style=\"text-align: right;\">\n",
       "      <th></th>\n",
       "      <th>win_percentage</th>\n",
       "      <th>home_attendance_rate_per_game</th>\n",
       "    </tr>\n",
       "  </thead>\n",
       "  <tbody>\n",
       "    <tr>\n",
       "      <th>win_percentage</th>\n",
       "      <td>1.00000</td>\n",
       "      <td>0.21649</td>\n",
       "    </tr>\n",
       "    <tr>\n",
       "      <th>home_attendance_rate_per_game</th>\n",
       "      <td>0.21649</td>\n",
       "      <td>1.00000</td>\n",
       "    </tr>\n",
       "  </tbody>\n",
       "</table>\n",
       "</div>"
      ],
      "text/plain": [
       "                               win_percentage  home_attendance_rate_per_game\n",
       "win_percentage                        1.00000                        0.21649\n",
       "home_attendance_rate_per_game         0.21649                        1.00000"
      ]
     },
     "execution_count": 124,
     "metadata": {},
     "output_type": "execute_result"
    }
   ],
   "source": [
    "# check the correlation between the winnning percentage and the home attendance rate\n",
    "final_dataset[['win_percentage', 'home_attendance_rate_per_game']].corr()"
   ]
  },
  {
   "cell_type": "markdown",
   "metadata": {},
   "source": [
    "It seems that there's a weak positive correlation between winnning percentage and the home attendance rate."
   ]
  },
  {
   "cell_type": "code",
   "execution_count": 126,
   "metadata": {},
   "outputs": [
    {
     "name": "stdout",
     "output_type": "stream",
     "text": [
      "                                  OLS Regression Results                                 \n",
      "=========================================================================================\n",
      "Dep. Variable:     home_attendance_rate_per_game   R-squared:                       0.047\n",
      "Model:                                       OLS   Adj. R-squared:                  0.045\n",
      "Method:                            Least Squares   F-statistic:                     28.86\n",
      "Date:                           Thu, 14 Mar 2024   Prob (F-statistic):           1.12e-07\n",
      "Time:                                   16:48:08   Log-Likelihood:                 686.51\n",
      "No. Observations:                            589   AIC:                            -1369.\n",
      "Df Residuals:                                587   BIC:                            -1360.\n",
      "Df Model:                                      1                                         \n",
      "Covariance Type:                       nonrobust                                         \n",
      "==================================================================================\n",
      "                     coef    std err          t      P>|t|      [0.025      0.975]\n",
      "----------------------------------------------------------------------------------\n",
      "Intercept          0.9194      0.009    106.248      0.000       0.902       0.936\n",
      "win_percentage     0.0865      0.016      5.373      0.000       0.055       0.118\n",
      "==============================================================================\n",
      "Omnibus:                      241.242   Durbin-Watson:                   0.640\n",
      "Prob(Omnibus):                  0.000   Jarque-Bera (JB):             1545.806\n",
      "Skew:                          -1.684   Prob(JB):                         0.00\n",
      "Kurtosis:                      10.186   Cond. No.                         6.51\n",
      "==============================================================================\n",
      "\n",
      "Notes:\n",
      "[1] Standard Errors assume that the covariance matrix of the errors is correctly specified.\n"
     ]
    },
    {
     "data": {
      "text/plain": [
       "<seaborn.axisgrid.FacetGrid at 0x18db6bf8810>"
      ]
     },
     "execution_count": 126,
     "metadata": {},
     "output_type": "execute_result"
    },
    {
     "data": {
      "image/png": "[encoded data removed]",
      "text/plain": [
       "<Figure size 500x500 with 1 Axes>"
      ]
     },
     "metadata": {},
     "output_type": "display_data"
    }
   ],
   "source": [
    "# build a regression between home_attendance_rate_per_game and winning percentage\n",
    "\n",
    "model1 = smf.ols('home_attendance_rate_per_game ~ win_percentage', data=final_dataset).fit()\n",
    "print(model1.summary())\n",
    "\n",
    "# plot the regression line\n",
    "sns.lmplot(x='win_percentage', y='home_attendance_rate_per_game', data=final_dataset)"
   ]
  },
  {
   "cell_type": "code",
   "execution_count": 133,
   "metadata": {},
   "outputs": [
    {
     "data": {
      "text/html": [
       "<div>\n",
       "<style scoped>\n",
       "    .dataframe tbody tr th:only-of-type {\n",
       "        vertical-align: middle;\n",
       "    }\n",
       "\n",
       "    .dataframe tbody tr th {\n",
       "        vertical-align: top;\n",
       "    }\n",
       "\n",
       "    .dataframe thead th {\n",
       "        text-align: right;\n",
       "    }\n",
       "</style>\n",
       "<table border=\"1\" class=\"dataframe\">\n",
       "  <thead>\n",
       "    <tr style=\"text-align: right;\">\n",
       "      <th></th>\n",
       "      <th>gdp_chained_million_dollar</th>\n",
       "      <th>home_attendance_rate_per_game</th>\n",
       "    </tr>\n",
       "  </thead>\n",
       "  <tbody>\n",
       "    <tr>\n",
       "      <th>gdp_chained_million_dollar</th>\n",
       "      <td>1.000000</td>\n",
       "      <td>0.119955</td>\n",
       "    </tr>\n",
       "    <tr>\n",
       "      <th>home_attendance_rate_per_game</th>\n",
       "      <td>0.119955</td>\n",
       "      <td>1.000000</td>\n",
       "    </tr>\n",
       "  </tbody>\n",
       "</table>\n",
       "</div>"
      ],
      "text/plain": [
       "                               gdp_chained_million_dollar  \\\n",
       "gdp_chained_million_dollar                       1.000000   \n",
       "home_attendance_rate_per_game                    0.119955   \n",
       "\n",
       "                               home_attendance_rate_per_game  \n",
       "gdp_chained_million_dollar                          0.119955  \n",
       "home_attendance_rate_per_game                       1.000000  "
      ]
     },
     "execution_count": 133,
     "metadata": {},
     "output_type": "execute_result"
    }
   ],
   "source": [
    "# check the correlation between the county gdp and the home attendance rate\n",
    "final_dataset_without_la = final_dataset[(final_dataset['team_name'] != 'Rams') & (final_dataset['team_name'] != 'Chargers')]\n",
    "final_dataset_without_la[['gdp_chained_million_dollar', 'home_attendance_rate_per_game']].corr()"
   ]
  },
  {
   "cell_type": "markdown",
   "metadata": {},
   "source": [
    "I exclude the Rams and the Chargers because those two teams have moved from another county to Los Angeles during the time period, which made the gdp values rose a lot. <br>\n",
    "The correlation between the county's gdp and home attendance is very weak."
   ]
  },
  {
   "cell_type": "code",
   "execution_count": 134,
   "metadata": {},
   "outputs": [
    {
     "name": "stdout",
     "output_type": "stream",
     "text": [
      "                                  OLS Regression Results                                 \n",
      "=========================================================================================\n",
      "Dep. Variable:     home_attendance_rate_per_game   R-squared:                       0.014\n",
      "Model:                                       OLS   Adj. R-squared:                  0.013\n",
      "Method:                            Least Squares   F-statistic:                     7.825\n",
      "Date:                           Thu, 14 Mar 2024   Prob (F-statistic):            0.00534\n",
      "Time:                                   16:54:46   Log-Likelihood:                 633.11\n",
      "No. Observations:                            538   AIC:                            -1262.\n",
      "Df Residuals:                                536   BIC:                            -1254.\n",
      "Df Model:                                      1                                         \n",
      "Covariance Type:                       nonrobust                                         \n",
      "==============================================================================================\n",
      "                                 coef    std err          t      P>|t|      [0.025      0.975]\n",
      "----------------------------------------------------------------------------------------------\n",
      "Intercept                      0.9563      0.005    183.810      0.000       0.946       0.967\n",
      "gdp_chained_million_dollar  1.181e-07   4.22e-08      2.797      0.005    3.52e-08    2.01e-07\n",
      "==============================================================================\n",
      "Omnibus:                      294.225   Durbin-Watson:                   0.515\n",
      "Prob(Omnibus):                  0.000   Jarque-Bera (JB):             2871.464\n",
      "Skew:                          -2.213   Prob(JB):                         0.00\n",
      "Kurtosis:                      13.417   Cond. No.                     1.99e+05\n",
      "==============================================================================\n",
      "\n",
      "Notes:\n",
      "[1] Standard Errors assume that the covariance matrix of the errors is correctly specified.\n",
      "[2] The condition number is large, 1.99e+05. This might indicate that there are\n",
      "strong multicollinearity or other numerical problems.\n"
     ]
    },
    {
     "data": {
      "text/plain": [
       "<seaborn.axisgrid.FacetGrid at 0x18db6cc92d0>"
      ]
     },
     "execution_count": 134,
     "metadata": {},
     "output_type": "execute_result"
    },
    {
     "data": {
      "image/png": "[encoded data removed]",
      "text/plain": [
       "<Figure size 500x500 with 1 Axes>"
      ]
     },
     "metadata": {},
     "output_type": "display_data"
    }
   ],
   "source": [
    "# build a regression between home_attendance_rate_per_game and gdp_chained_million_dollar\n",
    "model2 = smf.ols('home_attendance_rate_per_game ~ gdp_chained_million_dollar', data=final_dataset_without_la).fit()\n",
    "print(model2.summary())\n",
    "\n",
    "# plot the regression line\n",
    "sns.lmplot(x='gdp_chained_million_dollar', y='home_attendance_rate_per_game', data=final_dataset_without_la)\n"
   ]
  },
  {
   "cell_type": "code",
   "execution_count": 137,
   "metadata": {},
   "outputs": [
    {
     "name": "stdout",
     "output_type": "stream",
     "text": [
      "                  sum_sq     df          F        PR(>F)\n",
      "win_percentage  0.164807    1.0  28.864242  1.120867e-07\n",
      "Residual        3.351602  587.0        NaN           NaN\n"
     ]
    }
   ],
   "source": [
    "anova1 = sm.stats.anova_lm(model1, typ=2)\n",
    "print(anova1)"
   ]
  },
  {
   "cell_type": "code",
   "execution_count": 138,
   "metadata": {},
   "outputs": [
    {
     "name": "stdout",
     "output_type": "stream",
     "text": [
      "                              sum_sq     df         F    PR(>F)\n",
      "gdp_chained_million_dollar  0.043701    1.0  7.825196  0.005337\n",
      "Residual                    2.993381  536.0       NaN       NaN\n"
     ]
    }
   ],
   "source": [
    "anova2 = sm.stats.anova_lm(model2, typ=2)\n",
    "print(anova2)"
   ]
  },
  {
   "cell_type": "code",
   "execution_count": 139,
   "metadata": {},
   "outputs": [
    {
     "name": "stdout",
     "output_type": "stream",
     "text": [
      "             sum_sq     df         F    PR(>F)\n",
      "renovated  0.011719    1.0  1.962898  0.161732\n",
      "Residual   3.504689  587.0       NaN       NaN\n"
     ]
    }
   ],
   "source": [
    "model3 = smf.ols('home_attendance_rate_per_game ~ renovated', data=final_dataset).fit()\n",
    "anova3 = sm.stats.anova_lm(model3, typ=2)\n",
    "print(anova3)"
   ]
  },
  {
   "cell_type": "code",
   "execution_count": 136,
   "metadata": {},
   "outputs": [
    {
     "data": {
      "text/html": [
       "<div>\n",
       "<style scoped>\n",
       "    .dataframe tbody tr th:only-of-type {\n",
       "        vertical-align: middle;\n",
       "    }\n",
       "\n",
       "    .dataframe tbody tr th {\n",
       "        vertical-align: top;\n",
       "    }\n",
       "\n",
       "    .dataframe thead th {\n",
       "        text-align: right;\n",
       "    }\n",
       "</style>\n",
       "<table border=\"1\" class=\"dataframe\">\n",
       "  <thead>\n",
       "    <tr style=\"text-align: right;\">\n",
       "      <th></th>\n",
       "      <th>home_attendance_rate_per_game</th>\n",
       "      <th>win_percentage</th>\n",
       "      <th>gdp_chained_million_dollar</th>\n",
       "    </tr>\n",
       "    <tr>\n",
       "      <th>team_name</th>\n",
       "      <th></th>\n",
       "      <th></th>\n",
       "      <th></th>\n",
       "    </tr>\n",
       "  </thead>\n",
       "  <tbody>\n",
       "    <tr>\n",
       "      <th>Cowboys</th>\n",
       "      <td>1.052335</td>\n",
       "      <td>0.537222</td>\n",
       "      <td>87700.461667</td>\n",
       "    </tr>\n",
       "    <tr>\n",
       "      <th>Dolphins</th>\n",
       "      <td>1.045532</td>\n",
       "      <td>0.462778</td>\n",
       "      <td>123520.055556</td>\n",
       "    </tr>\n",
       "    <tr>\n",
       "      <th>Patriots</th>\n",
       "      <td>1.032615</td>\n",
       "      <td>0.764444</td>\n",
       "      <td>43893.905556</td>\n",
       "    </tr>\n",
       "    <tr>\n",
       "      <th>Browns</th>\n",
       "      <td>1.022157</td>\n",
       "      <td>0.313889</td>\n",
       "      <td>83051.341111</td>\n",
       "    </tr>\n",
       "    <tr>\n",
       "      <th>Eagles</th>\n",
       "      <td>1.018652</td>\n",
       "      <td>0.591667</td>\n",
       "      <td>90925.320556</td>\n",
       "    </tr>\n",
       "    <tr>\n",
       "      <th>Bears</th>\n",
       "      <td>0.998759</td>\n",
       "      <td>0.500000</td>\n",
       "      <td>336141.555556</td>\n",
       "    </tr>\n",
       "    <tr>\n",
       "      <th>Broncos</th>\n",
       "      <td>0.998748</td>\n",
       "      <td>0.568333</td>\n",
       "      <td>57297.783889</td>\n",
       "    </tr>\n",
       "    <tr>\n",
       "      <th>Ravens</th>\n",
       "      <td>0.995083</td>\n",
       "      <td>0.567778</td>\n",
       "      <td>43165.694444</td>\n",
       "    </tr>\n",
       "    <tr>\n",
       "      <th>49ers</th>\n",
       "      <td>0.991422</td>\n",
       "      <td>0.450000</td>\n",
       "      <td>185018.000000</td>\n",
       "    </tr>\n",
       "    <tr>\n",
       "      <th>Texans</th>\n",
       "      <td>0.989704</td>\n",
       "      <td>0.444118</td>\n",
       "      <td>314067.529412</td>\n",
       "    </tr>\n",
       "    <tr>\n",
       "      <th>Titans</th>\n",
       "      <td>0.983377</td>\n",
       "      <td>0.478889</td>\n",
       "      <td>50428.061111</td>\n",
       "    </tr>\n",
       "    <tr>\n",
       "      <th>Panthers</th>\n",
       "      <td>0.977600</td>\n",
       "      <td>0.506667</td>\n",
       "      <td>78872.584444</td>\n",
       "    </tr>\n",
       "    <tr>\n",
       "      <th>Chiefs</th>\n",
       "      <td>0.975487</td>\n",
       "      <td>0.495294</td>\n",
       "      <td>39242.901176</td>\n",
       "    </tr>\n",
       "    <tr>\n",
       "      <th>Colts</th>\n",
       "      <td>0.975107</td>\n",
       "      <td>0.625000</td>\n",
       "      <td>79286.447222</td>\n",
       "    </tr>\n",
       "    <tr>\n",
       "      <th>Seahawks</th>\n",
       "      <td>0.972433</td>\n",
       "      <td>0.573889</td>\n",
       "      <td>193772.833333</td>\n",
       "    </tr>\n",
       "    <tr>\n",
       "      <th>Vikings</th>\n",
       "      <td>0.972111</td>\n",
       "      <td>0.502778</td>\n",
       "      <td>106449.025000</td>\n",
       "    </tr>\n",
       "    <tr>\n",
       "      <th>Giants</th>\n",
       "      <td>0.968353</td>\n",
       "      <td>0.493333</td>\n",
       "      <td>64071.542778</td>\n",
       "    </tr>\n",
       "    <tr>\n",
       "      <th>Falcons</th>\n",
       "      <td>0.966069</td>\n",
       "      <td>0.533333</td>\n",
       "      <td>123132.666667</td>\n",
       "    </tr>\n",
       "    <tr>\n",
       "      <th>Jets</th>\n",
       "      <td>0.958633</td>\n",
       "      <td>0.457222</td>\n",
       "      <td>64071.542778</td>\n",
       "    </tr>\n",
       "    <tr>\n",
       "      <th>Saints</th>\n",
       "      <td>0.940544</td>\n",
       "      <td>0.556111</td>\n",
       "      <td>22998.437778</td>\n",
       "    </tr>\n",
       "    <tr>\n",
       "      <th>Bills</th>\n",
       "      <td>0.938100</td>\n",
       "      <td>0.415000</td>\n",
       "      <td>46475.609444</td>\n",
       "    </tr>\n",
       "    <tr>\n",
       "      <th>Jaguars</th>\n",
       "      <td>0.936129</td>\n",
       "      <td>0.395556</td>\n",
       "      <td>50880.753333</td>\n",
       "    </tr>\n",
       "    <tr>\n",
       "      <th>Lions</th>\n",
       "      <td>0.934288</td>\n",
       "      <td>0.354444</td>\n",
       "      <td>85729.754444</td>\n",
       "    </tr>\n",
       "    <tr>\n",
       "      <th>Buccaneers</th>\n",
       "      <td>0.933284</td>\n",
       "      <td>0.419444</td>\n",
       "      <td>67260.834444</td>\n",
       "    </tr>\n",
       "    <tr>\n",
       "      <th>Chargers</th>\n",
       "      <td>0.923867</td>\n",
       "      <td>0.541111</td>\n",
       "      <td>235141.111111</td>\n",
       "    </tr>\n",
       "    <tr>\n",
       "      <th>Bengals</th>\n",
       "      <td>0.920045</td>\n",
       "      <td>0.487778</td>\n",
       "      <td>62838.372778</td>\n",
       "    </tr>\n",
       "    <tr>\n",
       "      <th>Steelers</th>\n",
       "      <td>0.911729</td>\n",
       "      <td>0.657222</td>\n",
       "      <td>77596.103333</td>\n",
       "    </tr>\n",
       "    <tr>\n",
       "      <th>Rams</th>\n",
       "      <td>0.902948</td>\n",
       "      <td>0.423333</td>\n",
       "      <td>106489.157879</td>\n",
       "    </tr>\n",
       "    <tr>\n",
       "      <th>Packers</th>\n",
       "      <td>0.885427</td>\n",
       "      <td>0.610000</td>\n",
       "      <td>14599.187778</td>\n",
       "    </tr>\n",
       "    <tr>\n",
       "      <th>Raiders</th>\n",
       "      <td>0.873501</td>\n",
       "      <td>0.367778</td>\n",
       "      <td>92807.220556</td>\n",
       "    </tr>\n",
       "    <tr>\n",
       "      <th>Cardinals</th>\n",
       "      <td>0.872534</td>\n",
       "      <td>0.448889</td>\n",
       "      <td>184418.666667</td>\n",
       "    </tr>\n",
       "  </tbody>\n",
       "</table>\n",
       "</div>"
      ],
      "text/plain": [
       "            home_attendance_rate_per_game  win_percentage  \\\n",
       "team_name                                                   \n",
       "Cowboys                          1.052335        0.537222   \n",
       "Dolphins                         1.045532        0.462778   \n",
       "Patriots                         1.032615        0.764444   \n",
       "Browns                           1.022157        0.313889   \n",
       "Eagles                           1.018652        0.591667   \n",
       "Bears                            0.998759        0.500000   \n",
       "Broncos                          0.998748        0.568333   \n",
       "Ravens                           0.995083        0.567778   \n",
       "49ers                            0.991422        0.450000   \n",
       "Texans                           0.989704        0.444118   \n",
       "Titans                           0.983377        0.478889   \n",
       "Panthers                         0.977600        0.506667   \n",
       "Chiefs                           0.975487        0.495294   \n",
       "Colts                            0.975107        0.625000   \n",
       "Seahawks                         0.972433        0.573889   \n",
       "Vikings                          0.972111        0.502778   \n",
       "Giants                           0.968353        0.493333   \n",
       "Falcons                          0.966069        0.533333   \n",
       "Jets                             0.958633        0.457222   \n",
       "Saints                           0.940544        0.556111   \n",
       "Bills                            0.938100        0.415000   \n",
       "Jaguars                          0.936129        0.395556   \n",
       "Lions                            0.934288        0.354444   \n",
       "Buccaneers                       0.933284        0.419444   \n",
       "Chargers                         0.923867        0.541111   \n",
       "Bengals                          0.920045        0.487778   \n",
       "Steelers                         0.911729        0.657222   \n",
       "Rams                             0.902948        0.423333   \n",
       "Packers                          0.885427        0.610000   \n",
       "Raiders                          0.873501        0.367778   \n",
       "Cardinals                        0.872534        0.448889   \n",
       "\n",
       "            gdp_chained_million_dollar  \n",
       "team_name                               \n",
       "Cowboys                   87700.461667  \n",
       "Dolphins                 123520.055556  \n",
       "Patriots                  43893.905556  \n",
       "Browns                    83051.341111  \n",
       "Eagles                    90925.320556  \n",
       "Bears                    336141.555556  \n",
       "Broncos                   57297.783889  \n",
       "Ravens                    43165.694444  \n",
       "49ers                    185018.000000  \n",
       "Texans                   314067.529412  \n",
       "Titans                    50428.061111  \n",
       "Panthers                  78872.584444  \n",
       "Chiefs                    39242.901176  \n",
       "Colts                     79286.447222  \n",
       "Seahawks                 193772.833333  \n",
       "Vikings                  106449.025000  \n",
       "Giants                    64071.542778  \n",
       "Falcons                  123132.666667  \n",
       "Jets                      64071.542778  \n",
       "Saints                    22998.437778  \n",
       "Bills                     46475.609444  \n",
       "Jaguars                   50880.753333  \n",
       "Lions                     85729.754444  \n",
       "Buccaneers                67260.834444  \n",
       "Chargers                 235141.111111  \n",
       "Bengals                   62838.372778  \n",
       "Steelers                  77596.103333  \n",
       "Rams                     106489.157879  \n",
       "Packers                   14599.187778  \n",
       "Raiders                   92807.220556  \n",
       "Cardinals                184418.666667  "
      ]
     },
     "execution_count": 136,
     "metadata": {},
     "output_type": "execute_result"
    }
   ],
   "source": [
    "table1 = final_dataset.groupby('team_name').agg({'home_attendance_rate_per_game': 'mean', 'win_percentage': 'mean', 'gdp_chained_million_dollar': 'mean'}).sort_values(by='home_attendance_rate_per_game', ascending=False)\n",
    "table1"
   ]
  },
  {
   "cell_type": "markdown",
   "metadata": {},
   "source": [
    "## Graphical Analysis"
   ]
  },
  {
   "cell_type": "markdown",
   "metadata": {},
   "source": [
    "Create various types of plots to visualize relationships within your data. Use histograms, bar charts, scatter plots, box plots, and any other suitable graphical representations you've learned.\n",
    "\n",
    "Be sure to use appropriate titles, labels, and legends to make your plots readable and informative.\n",
    "\n",
    "Interpret the graphical representations to uncover patterns, trends, and outliers.\n"
   ]
  },
  {
   "cell_type": "markdown",
   "metadata": {},
   "source": [
    "### Steps\n",
    "- draw regression plots between between winning_percentage and home_attendance_rate_per_game, gdp_chained_million$ and home_attendance_rate per game.\n",
    "- draw box plots for the home_attendance_rate_per_gamer in two groups, the renovated year and the year before."
   ]
  },
  {
   "cell_type": "code",
   "execution_count": 145,
   "metadata": {},
   "outputs": [
    {
     "data": {
      "text/plain": [
       "<Axes: xlabel='renovated', ylabel='home_attendance_rate_per_game'>"
      ]
     },
     "execution_count": 145,
     "metadata": {},
     "output_type": "execute_result"
    },
    {
     "data": {
      "image/png": "[encoded data removed]",
      "text/plain": [
       "<Figure size 640x480 with 1 Axes>"
      ]
     },
     "metadata": {},
     "output_type": "display_data"
    }
   ],
   "source": [
    "renovatd_table = final_dataset.groupby('renovated').agg({'home_attendance_rate_per_game': 'mean'})\n",
    "# plot the average home attendance rate for renovated and non-renovated stadiums\n",
    "sns.boxplot(x='renovated', y='home_attendance_rate_per_game', data=final_dataset)"
   ]
  },
  {
   "cell_type": "markdown",
   "metadata": {},
   "source": [
    "## Comparative Analysis"
   ]
  },
  {
   "cell_type": "markdown",
   "metadata": {},
   "source": [
    "Compare and contrast different subsets of your data. This can include comparisons over time, across different categories, or any other relevant segmentation.  Note that for some projects, the nature of this comparative analysis will be obvious.  For others, you will need to think about how you might subset your data.\n",
    "\n",
    "Discuss any notable similarities or differences you have identified.\n"
   ]
  },
  {
   "cell_type": "markdown",
   "metadata": {},
   "source": [
    "### Steps\n",
    "- group by team, analyze each team's attendance, winning_percentage and gdp over years (line plot?). And find out whether there is similar trend.\n",
    "- group by year, look at the distribution of team's attendance, winning_percentage and gdp each year."
   ]
  },
  {
   "cell_type": "markdown",
   "metadata": {},
   "source": [
    "## Multivariate Analysis"
   ]
  },
  {
   "cell_type": "markdown",
   "metadata": {},
   "source": [
    "Perform multivariate analysis to understand the relationships among three or more variables in your dataset.\n",
    "\n",
    "Use techniques like cross-tabulation, pivot tables, and multivariate graphs.\n"
   ]
  },
  {
   "cell_type": "markdown",
   "metadata": {},
   "source": [
    "### Steps\n",
    "- variables to analyze: home_attendance_rate_per_game, winning_percentage, gdp_chained_million$, renovated\n",
    "- analysis: multiple regression, pivot tables, multivariate graphs."
   ]
  },
  {
   "cell_type": "markdown",
   "metadata": {},
   "source": [
    "## Synthesis"
   ]
  },
  {
   "cell_type": "markdown",
   "metadata": {},
   "source": [
    "Synthesize the findings from your descriptive and inferential statistics along with your graphical analyses to answer your research questions.\n",
    "\n",
    "Discuss how the combination of the datasets has provided added value in terms of insights or capabilities that would not be possible with the individual datasets in isolation.\n"
   ]
  },
  {
   "cell_type": "markdown",
   "metadata": {},
   "source": [
    "## Documentation"
   ]
  },
  {
   "cell_type": "markdown",
   "metadata": {},
   "source": [
    "Outline the steps you took in your analysis, providing the rationale for the choice of tools and techniques.\n",
    "\n",
    "Clearly document your code, analyses, and interpretations so that they are understandable and reproducible.\n"
   ]
  },
  {
   "cell_type": "markdown",
   "metadata": {},
   "source": [
    "## Reporting & Interpretation"
   ]
  },
  {
   "cell_type": "markdown",
   "metadata": {},
   "source": [
    "Prepare markdown blocks that summarize your methodology, analysis, and findings.  You should intersperse these with your code.\n",
    "\n",
    "Your notebook should be well-structured, with clear sections, headings, and subheadings.\n"
   ]
  },
  {
   "cell_type": "markdown",
   "metadata": {},
   "source": [
    "## Reflection"
   ]
  },
  {
   "cell_type": "markdown",
   "metadata": {},
   "source": [
    "Include a section (using one or more markdown blocks) at the end of your notebook in which you reflect on the process of analyzing the data. Discuss any challenges you encountered and how you overcame them.\n",
    "\n",
    "Critically evaluate the limitations of your analysis and suggest areas for further research or improvement.\n"
   ]
  }
 ],
 "metadata": {
  "kernelspec": {
   "display_name": ".venv",
   "language": "python",
   "name": "python3"
  },
  "language_info": {
   "codemirror_mode": {
    "name": "ipython",
    "version": 3
   },
   "file_extension": ".py",
   "mimetype": "text/x-python",
   "name": "python",
   "nbconvert_exporter": "python",
   "pygments_lexer": "ipython3",
   "version": "3.11.5"
  }
 },
 "nbformat": 4,
 "nbformat_minor": 2
}
